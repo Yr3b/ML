{
 "cells": [
  {
   "cell_type": "markdown",
   "id": "ef889b7d-4c2d-4dad-884b-b3db3de652c7",
   "metadata": {},
   "source": [
    "Librerias"
   ]
  },
  {
   "cell_type": "code",
   "execution_count": 3,
   "id": "90816e9a",
   "metadata": {},
   "outputs": [
    {
     "name": "stdout",
     "output_type": "stream",
     "text": [
      "Requirement already satisfied: pandas in c:\\users\\gonza\\appdata\\local\\programs\\python\\python312\\lib\\site-packages (2.2.3)\n",
      "Requirement already satisfied: numpy>=1.26.0 in c:\\users\\gonza\\appdata\\local\\programs\\python\\python312\\lib\\site-packages (from pandas) (1.26.4)\n",
      "Requirement already satisfied: python-dateutil>=2.8.2 in c:\\users\\gonza\\appdata\\local\\programs\\python\\python312\\lib\\site-packages (from pandas) (2.9.0.post0)\n",
      "Requirement already satisfied: pytz>=2020.1 in c:\\users\\gonza\\appdata\\local\\programs\\python\\python312\\lib\\site-packages (from pandas) (2024.2)\n",
      "Requirement already satisfied: tzdata>=2022.7 in c:\\users\\gonza\\appdata\\local\\programs\\python\\python312\\lib\\site-packages (from pandas) (2024.2)\n",
      "Requirement already satisfied: six>=1.5 in c:\\users\\gonza\\appdata\\local\\programs\\python\\python312\\lib\\site-packages (from python-dateutil>=2.8.2->pandas) (1.16.0)\n",
      "Note: you may need to restart the kernel to use updated packages.\n",
      "Requirement already satisfied: matplotlib in c:\\users\\gonza\\appdata\\local\\programs\\python\\python312\\lib\\site-packages (3.8.3)\n",
      "Requirement already satisfied: contourpy>=1.0.1 in c:\\users\\gonza\\appdata\\local\\programs\\python\\python312\\lib\\site-packages (from matplotlib) (1.2.0)\n",
      "Requirement already satisfied: cycler>=0.10 in c:\\users\\gonza\\appdata\\local\\programs\\python\\python312\\lib\\site-packages (from matplotlib) (0.12.1)\n",
      "Requirement already satisfied: fonttools>=4.22.0 in c:\\users\\gonza\\appdata\\local\\programs\\python\\python312\\lib\\site-packages (from matplotlib) (4.50.0)\n",
      "Requirement already satisfied: kiwisolver>=1.3.1 in c:\\users\\gonza\\appdata\\local\\programs\\python\\python312\\lib\\site-packages (from matplotlib) (1.4.5)\n",
      "Requirement already satisfied: numpy<2,>=1.21 in c:\\users\\gonza\\appdata\\local\\programs\\python\\python312\\lib\\site-packages (from matplotlib) (1.26.4)\n",
      "Requirement already satisfied: packaging>=20.0 in c:\\users\\gonza\\appdata\\local\\programs\\python\\python312\\lib\\site-packages (from matplotlib) (24.0)\n",
      "Requirement already satisfied: pillow>=8 in c:\\users\\gonza\\appdata\\local\\programs\\python\\python312\\lib\\site-packages (from matplotlib) (10.2.0)\n",
      "Requirement already satisfied: pyparsing>=2.3.1 in c:\\users\\gonza\\appdata\\local\\programs\\python\\python312\\lib\\site-packages (from matplotlib) (3.1.2)\n",
      "Requirement already satisfied: python-dateutil>=2.7 in c:\\users\\gonza\\appdata\\local\\programs\\python\\python312\\lib\\site-packages (from matplotlib) (2.9.0.post0)\n",
      "Requirement already satisfied: six>=1.5 in c:\\users\\gonza\\appdata\\local\\programs\\python\\python312\\lib\\site-packages (from python-dateutil>=2.7->matplotlib) (1.16.0)\n",
      "Note: you may need to restart the kernel to use updated packages.\n",
      "Requirement already satisfied: statsmodels in c:\\users\\gonza\\appdata\\local\\programs\\python\\python312\\lib\\site-packages (0.14.3)\n",
      "Requirement already satisfied: numpy<3,>=1.22.3 in c:\\users\\gonza\\appdata\\local\\programs\\python\\python312\\lib\\site-packages (from statsmodels) (1.26.4)\n",
      "Requirement already satisfied: scipy!=1.9.2,>=1.8 in c:\\users\\gonza\\appdata\\local\\programs\\python\\python312\\lib\\site-packages (from statsmodels) (1.14.1)\n",
      "Requirement already satisfied: pandas!=2.1.0,>=1.4 in c:\\users\\gonza\\appdata\\local\\programs\\python\\python312\\lib\\site-packages (from statsmodels) (2.2.3)\n",
      "Requirement already satisfied: patsy>=0.5.6 in c:\\users\\gonza\\appdata\\local\\programs\\python\\python312\\lib\\site-packages (from statsmodels) (0.5.6)\n",
      "Requirement already satisfied: packaging>=21.3 in c:\\users\\gonza\\appdata\\local\\programs\\python\\python312\\lib\\site-packages (from statsmodels) (24.0)\n",
      "Requirement already satisfied: python-dateutil>=2.8.2 in c:\\users\\gonza\\appdata\\local\\programs\\python\\python312\\lib\\site-packages (from pandas!=2.1.0,>=1.4->statsmodels) (2.9.0.post0)\n",
      "Requirement already satisfied: pytz>=2020.1 in c:\\users\\gonza\\appdata\\local\\programs\\python\\python312\\lib\\site-packages (from pandas!=2.1.0,>=1.4->statsmodels) (2024.2)\n",
      "Requirement already satisfied: tzdata>=2022.7 in c:\\users\\gonza\\appdata\\local\\programs\\python\\python312\\lib\\site-packages (from pandas!=2.1.0,>=1.4->statsmodels) (2024.2)\n",
      "Requirement already satisfied: six in c:\\users\\gonza\\appdata\\local\\programs\\python\\python312\\lib\\site-packages (from patsy>=0.5.6->statsmodels) (1.16.0)\n",
      "Note: you may need to restart the kernel to use updated packages.\n",
      "Requirement already satisfied: numpy in c:\\users\\gonza\\appdata\\local\\programs\\python\\python312\\lib\\site-packages (1.26.4)\n",
      "Note: you may need to restart the kernel to use updated packages.\n",
      "Collecting scikit-learn\n",
      "  Downloading scikit_learn-1.5.2-cp312-cp312-win_amd64.whl.metadata (13 kB)\n",
      "Requirement already satisfied: numpy>=1.19.5 in c:\\users\\gonza\\appdata\\local\\programs\\python\\python312\\lib\\site-packages (from scikit-learn) (1.26.4)\n",
      "Requirement already satisfied: scipy>=1.6.0 in c:\\users\\gonza\\appdata\\local\\programs\\python\\python312\\lib\\site-packages (from scikit-learn) (1.14.1)\n",
      "Collecting joblib>=1.2.0 (from scikit-learn)\n",
      "  Downloading joblib-1.4.2-py3-none-any.whl.metadata (5.4 kB)\n",
      "Collecting threadpoolctl>=3.1.0 (from scikit-learn)\n",
      "  Downloading threadpoolctl-3.5.0-py3-none-any.whl.metadata (13 kB)\n",
      "Downloading scikit_learn-1.5.2-cp312-cp312-win_amd64.whl (11.0 MB)\n",
      "   ---------------------------------------- 0.0/11.0 MB ? eta -:--:--\n",
      "   ---------------------------------------- 0.0/11.0 MB ? eta -:--:--\n",
      "    --------------------------------------- 0.3/11.0 MB ? eta -:--:--\n",
      "   - -------------------------------------- 0.5/11.0 MB 1.2 MB/s eta 0:00:09\n",
      "   -- ------------------------------------- 0.8/11.0 MB 1.2 MB/s eta 0:00:09\n",
      "   --- ------------------------------------ 1.0/11.0 MB 1.2 MB/s eta 0:00:09\n",
      "   ---- ----------------------------------- 1.3/11.0 MB 1.2 MB/s eta 0:00:09\n",
      "   ----- ---------------------------------- 1.6/11.0 MB 1.2 MB/s eta 0:00:08\n",
      "   ------ --------------------------------- 1.8/11.0 MB 1.2 MB/s eta 0:00:08\n",
      "   ------- -------------------------------- 2.1/11.0 MB 1.2 MB/s eta 0:00:08\n",
      "   -------- ------------------------------- 2.4/11.0 MB 1.1 MB/s eta 0:00:08\n",
      "   -------- ------------------------------- 2.4/11.0 MB 1.1 MB/s eta 0:00:08\n",
      "   -------- ------------------------------- 2.4/11.0 MB 1.1 MB/s eta 0:00:08\n",
      "   --------- ------------------------------ 2.6/11.0 MB 1.0 MB/s eta 0:00:08\n",
      "   ---------- ----------------------------- 2.9/11.0 MB 992.6 kB/s eta 0:00:09\n",
      "   ---------- ----------------------------- 2.9/11.0 MB 992.6 kB/s eta 0:00:09\n",
      "   ----------- ---------------------------- 3.1/11.0 MB 971.2 kB/s eta 0:00:09\n",
      "   ----------- ---------------------------- 3.1/11.0 MB 971.2 kB/s eta 0:00:09\n",
      "   ------------ --------------------------- 3.4/11.0 MB 944.9 kB/s eta 0:00:09\n",
      "   ------------- -------------------------- 3.7/11.0 MB 931.9 kB/s eta 0:00:08\n",
      "   ------------- -------------------------- 3.7/11.0 MB 931.9 kB/s eta 0:00:08\n",
      "   -------------- ------------------------- 3.9/11.0 MB 921.0 kB/s eta 0:00:08\n",
      "   --------------- ------------------------ 4.2/11.0 MB 915.1 kB/s eta 0:00:08\n",
      "   --------------- ------------------------ 4.2/11.0 MB 915.1 kB/s eta 0:00:08\n",
      "   ---------------- ----------------------- 4.5/11.0 MB 913.0 kB/s eta 0:00:08\n",
      "   ----------------- ---------------------- 4.7/11.0 MB 908.2 kB/s eta 0:00:07\n",
      "   ----------------- ---------------------- 4.7/11.0 MB 908.2 kB/s eta 0:00:07\n",
      "   ------------------ --------------------- 5.0/11.0 MB 904.1 kB/s eta 0:00:07\n",
      "   ------------------- -------------------- 5.2/11.0 MB 903.0 kB/s eta 0:00:07\n",
      "   ------------------- -------------------- 5.2/11.0 MB 903.0 kB/s eta 0:00:07\n",
      "   -------------------- ------------------- 5.5/11.0 MB 899.4 kB/s eta 0:00:07\n",
      "   -------------------- ------------------- 5.8/11.0 MB 896.4 kB/s eta 0:00:06\n",
      "   -------------------- ------------------- 5.8/11.0 MB 896.4 kB/s eta 0:00:06\n",
      "   --------------------- ------------------ 6.0/11.0 MB 895.8 kB/s eta 0:00:06\n",
      "   ---------------------- ----------------- 6.3/11.0 MB 893.2 kB/s eta 0:00:06\n",
      "   ----------------------- ---------------- 6.6/11.0 MB 890.8 kB/s eta 0:00:05\n",
      "   ----------------------- ---------------- 6.6/11.0 MB 890.8 kB/s eta 0:00:05\n",
      "   ------------------------ --------------- 6.8/11.0 MB 888.6 kB/s eta 0:00:05\n",
      "   ------------------------- -------------- 7.1/11.0 MB 890.1 kB/s eta 0:00:05\n",
      "   ------------------------- -------------- 7.1/11.0 MB 890.1 kB/s eta 0:00:05\n",
      "   -------------------------- ------------- 7.3/11.0 MB 891.6 kB/s eta 0:00:05\n",
      "   --------------------------- ------------ 7.6/11.0 MB 893.1 kB/s eta 0:00:04\n",
      "   --------------------------- ------------ 7.6/11.0 MB 893.1 kB/s eta 0:00:04\n",
      "   ---------------------------- ----------- 7.9/11.0 MB 891.0 kB/s eta 0:00:04\n",
      "   ----------------------------- ---------- 8.1/11.0 MB 889.2 kB/s eta 0:00:04\n",
      "   ------------------------------ --------- 8.4/11.0 MB 889.0 kB/s eta 0:00:03\n",
      "   ------------------------------ --------- 8.4/11.0 MB 889.0 kB/s eta 0:00:03\n",
      "   ------------------------------- -------- 8.7/11.0 MB 887.3 kB/s eta 0:00:03\n",
      "   -------------------------------- ------- 8.9/11.0 MB 887.3 kB/s eta 0:00:03\n",
      "   -------------------------------- ------- 8.9/11.0 MB 887.3 kB/s eta 0:00:03\n",
      "   --------------------------------- ------ 9.2/11.0 MB 891.3 kB/s eta 0:00:03\n",
      "   ---------------------------------- ----- 9.4/11.0 MB 887.0 kB/s eta 0:00:02\n",
      "   ---------------------------------- ----- 9.4/11.0 MB 887.0 kB/s eta 0:00:02\n",
      "   ----------------------------------- ---- 9.7/11.0 MB 883.0 kB/s eta 0:00:02\n",
      "   ----------------------------------- ---- 9.7/11.0 MB 883.0 kB/s eta 0:00:02\n",
      "   ------------------------------------ --- 10.0/11.0 MB 878.0 kB/s eta 0:00:02\n",
      "   ------------------------------------- -- 10.2/11.0 MB 876.9 kB/s eta 0:00:01\n",
      "   -------------------------------------- - 10.5/11.0 MB 884.2 kB/s eta 0:00:01\n",
      "   ---------------------------------------  10.7/11.0 MB 888.8 kB/s eta 0:00:01\n",
      "   ---------------------------------------  10.7/11.0 MB 888.8 kB/s eta 0:00:01\n",
      "   ---------------------------------------- 11.0/11.0 MB 885.5 kB/s eta 0:00:00\n",
      "Downloading joblib-1.4.2-py3-none-any.whl (301 kB)\n",
      "Downloading threadpoolctl-3.5.0-py3-none-any.whl (18 kB)\n",
      "Installing collected packages: threadpoolctl, joblib, scikit-learn\n",
      "Successfully installed joblib-1.4.2 scikit-learn-1.5.2 threadpoolctl-3.5.0\n",
      "Note: you may need to restart the kernel to use updated packages.\n"
     ]
    }
   ],
   "source": [
    "%pip install pandas\n",
    "%pip install matplotlib\n",
    "%pip install statsmodels\n",
    "%pip install numpy\n",
    "%pip install scikit-learn\n"
   ]
  },
  {
   "cell_type": "markdown",
   "id": "b846eaf6",
   "metadata": {},
   "source": [
    "# Clase 1: Regresion Lineal"
   ]
  },
  {
   "cell_type": "markdown",
   "id": "5fb6ee37",
   "metadata": {},
   "source": [
    "Configuracion Dataset"
   ]
  },
  {
   "cell_type": "code",
   "execution_count": 6,
   "id": "c1e6f6eb",
   "metadata": {},
   "outputs": [
    {
     "name": "stderr",
     "output_type": "stream",
     "text": [
      "C:\\Users\\gonza\\AppData\\Local\\Temp\\ipykernel_4936\\1919900989.py:5: FutureWarning: The 'delim_whitespace' keyword in pd.read_csv is deprecated and will be removed in a future version. Use ``sep='\\s+'`` instead\n",
      "  auto_mpg = pd.read_csv(url, names=column_names, delim_whitespace=True, na_values=\"?\")\n"
     ]
    },
    {
     "name": "stdout",
     "output_type": "stream",
     "text": [
      "    mpg  displacement  horsepower  weight  acceleration\n",
      "0  18.0         307.0       130.0  3504.0          12.0\n",
      "1  15.0         350.0       165.0  3693.0          11.5\n",
      "2  18.0         318.0       150.0  3436.0          11.0\n",
      "3  16.0         304.0       150.0  3433.0          12.0\n",
      "4  17.0         302.0       140.0  3449.0          10.5\n"
     ]
    }
   ],
   "source": [
    "import pandas as pd\n",
    "\n",
    "url = \"https://archive.ics.uci.edu/ml/machine-learning-databases/auto-mpg/auto-mpg.data\"\n",
    "column_names = [\"mpg\", \"cylinders\", \"displacement\", \"horsepower\", \"weight\", \"acceleration\", \"model_year\", \"origin\", \"car_name\"]\n",
    "auto_mpg = pd.read_csv(url, names=column_names, delim_whitespace=True, na_values=\"?\")\n",
    "auto_mpg = auto_mpg.dropna() \n",
    "auto_mpg = auto_mpg.drop(columns=[\"cylinders\", \"model_year\", \"origin\", \"car_name\"])\n",
    "print(auto_mpg.head()) "
   ]
  },
  {
   "cell_type": "markdown",
   "id": "1dccaa5f",
   "metadata": {},
   "source": [
    "Regresion Lineal Simple"
   ]
  },
  {
   "cell_type": "code",
   "execution_count": 7,
   "id": "6da6de23",
   "metadata": {},
   "outputs": [
    {
     "name": "stdout",
     "output_type": "stream",
     "text": [
      "                            OLS Regression Results                            \n",
      "==============================================================================\n",
      "Dep. Variable:                      y   R-squared:                       0.695\n",
      "Model:                            OLS   Adj. R-squared:                  0.694\n",
      "Method:                 Least Squares   F-statistic:                     707.7\n",
      "Date:                Sat, 28 Sep 2024   Prob (F-statistic):           4.06e-82\n",
      "Time:                        16:01:14   Log-Likelihood:                -853.28\n",
      "No. Observations:                 313   AIC:                             1711.\n",
      "Df Residuals:                     311   BIC:                             1718.\n",
      "Df Model:                           1                                         \n",
      "Covariance Type:            nonrobust                                         \n",
      "==============================================================================\n",
      "                 coef    std err          t      P>|t|      [0.025      0.975]\n",
      "------------------------------------------------------------------------------\n",
      "const         32.1838      0.459     70.165      0.000      31.281      33.086\n",
      "x1            -0.0514      0.002    -26.602      0.000      -0.055      -0.048\n",
      "==============================================================================\n",
      "Omnibus:                       35.481   Durbin-Watson:                   0.893\n",
      "Prob(Omnibus):                  0.000   Jarque-Bera (JB):               61.117\n",
      "Skew:                           0.668   Prob(JB):                     5.35e-14\n",
      "Kurtosis:                       4.704   Cond. No.                         519.\n",
      "==============================================================================\n",
      "\n",
      "Notes:\n",
      "[1] Standard Errors assume that the covariance matrix of the errors is correctly specified.\n"
     ]
    }
   ],
   "source": [
    "import statsmodels.api as sm\n",
    "\n",
    "X = auto_mpg[\"displacement\"].values.reshape(-1, 1)\n",
    "y = auto_mpg[\"mpg\"].values\n",
    "\n",
    "x_train = X[:int(len(auto_mpg)*0.8)]\n",
    "y_train = y[:int(len(auto_mpg)*0.8)]\n",
    "\n",
    "x_test = X[int(len(auto_mpg)*0.8):]\n",
    "y_test = y[int(len(auto_mpg)*0.8):]\n",
    "X_train_sm = sm.add_constant(x_train)\n",
    "\n",
    "# OLS: Ordinary Least Squares, es regresion lineal basicamente\n",
    "model = sm.OLS(y_train, X_train_sm).fit()\n",
    "y_pred = model.predict(sm.add_constant(x_test))\n",
    "print(model.summary()) "
   ]
  },
  {
   "cell_type": "markdown",
   "id": "a213531b",
   "metadata": {},
   "source": [
    "Regresion Lineal Multiple"
   ]
  },
  {
   "cell_type": "code",
   "execution_count": 8,
   "id": "727d5c23",
   "metadata": {},
   "outputs": [
    {
     "name": "stdout",
     "output_type": "stream",
     "text": [
      "                            OLS Regression Results                            \n",
      "==============================================================================\n",
      "Dep. Variable:                      y   R-squared:                       0.763\n",
      "Model:                            OLS   Adj. R-squared:                  0.760\n",
      "Method:                 Least Squares   F-statistic:                     248.0\n",
      "Date:                Sat, 28 Sep 2024   Prob (F-statistic):           5.73e-95\n",
      "Time:                        16:01:17   Log-Likelihood:                -813.59\n",
      "No. Observations:                 313   AIC:                             1637.\n",
      "Df Residuals:                     308   BIC:                             1656.\n",
      "Df Model:                           4                                         \n",
      "Covariance Type:            nonrobust                                         \n",
      "================================================================================\n",
      "                   coef    std err          t      P>|t|      [0.025      0.975]\n",
      "--------------------------------------------------------------------------------\n",
      "const           43.5072      2.162     20.127      0.000      39.254      47.761\n",
      "displacement    -0.0073      0.006     -1.301      0.194      -0.018       0.004\n",
      "horsepower      -0.0343      0.014     -2.529      0.012      -0.061      -0.008\n",
      "weight          -0.0046      0.001     -6.969      0.000      -0.006      -0.003\n",
      "acceleration    -0.1602      0.111     -1.444      0.150      -0.378       0.058\n",
      "==============================================================================\n",
      "Omnibus:                       45.803   Durbin-Watson:                   0.901\n",
      "Prob(Omnibus):                  0.000   Jarque-Bera (JB):               94.741\n",
      "Skew:                           0.764   Prob(JB):                     2.67e-21\n",
      "Kurtosis:                       5.220   Cond. No.                     3.77e+04\n",
      "==============================================================================\n",
      "\n",
      "Notes:\n",
      "[1] Standard Errors assume that the covariance matrix of the errors is correctly specified.\n",
      "[2] The condition number is large, 3.77e+04. This might indicate that there are\n",
      "strong multicollinearity or other numerical problems.\n"
     ]
    }
   ],
   "source": [
    "# Agarra todas las variables del dataset excepto el mpg que es la variable\n",
    "# objetivo (y), y le agrega una constante\n",
    "X = auto_mpg.drop(columns=[\"mpg\"])\n",
    "X = sm.add_constant(X)\n",
    "y = auto_mpg[\"mpg\"].values\n",
    "\n",
    "x_train = X[:int(len(auto_mpg)*0.8)]\n",
    "y_train = y[:int(len(auto_mpg)*0.8)]\n",
    "\n",
    "x_test = X[:int(len(auto_mpg)*0.8)]\n",
    "y_test = y[:int(len(auto_mpg)*0.8)]\n",
    "\n",
    "\n",
    "model = sm.OLS(y_train, x_train).fit()\n",
    "print(model.summary())"
   ]
  },
  {
   "cell_type": "markdown",
   "id": "ffd75082",
   "metadata": {},
   "source": [
    "# Clase 2 :Seleccion de variables independientes"
   ]
  },
  {
   "cell_type": "markdown",
   "id": "86631d6c",
   "metadata": {},
   "source": [
    "FSS (Forward Stepwise Selection): Lo que hace el algoritmo FSS es ir agregando una variable a la vez, primero las que producen un mejor r^2 ajustado, hasta que al agregar un valor de r^2 adj da peor resultado que el anterior obtenido.\n",
    "\n",
    "Igual el codigo de aca abajo no para de agregar variables, porque quiere obtener todos los resultados para despues poder hacer el grafico"
   ]
  },
  {
   "cell_type": "code",
   "execution_count": 9,
   "id": "87281808",
   "metadata": {},
   "outputs": [
    {
     "name": "stdout",
     "output_type": "stream",
     "text": [
      "R2 adj hasta ahora [0.691842306026063]\n",
      "R2 adj hasta ahora [0.691842306026063, 0.7048656350343583]\n",
      "R2 adj hasta ahora [0.691842306026063, 0.7048656350343583, 0.7046896611177529]\n",
      "R2 adj hasta ahora [0.691842306026063, 0.7048656350343583, 0.7046896611177529, 0.7039525683453438]\n"
     ]
    }
   ],
   "source": [
    "import operator\n",
    "X = auto_mpg.drop(columns=[\"mpg\"])\n",
    "X = sm.add_constant(X)\n",
    "\n",
    "y = auto_mpg[\"mpg\"].values\n",
    "\n",
    "variables = ['const']\n",
    "iterate_columns = X.columns.drop('const', 1)\n",
    "r2_adj = []\n",
    "vars_size = iterate_columns.size\n",
    "var_model = {}\n",
    "for k in range(0, vars_size):\n",
    "  r2 = {}\n",
    "  for var in iterate_columns:\n",
    "    var_explicativa = X[variables + [var]]\n",
    "    model = sm.OLS(y, var_explicativa)\n",
    "    regr = model.fit()\n",
    "    r2[var] = regr.rsquared_adj\n",
    "\n",
    "  var_max_r2 = max(r2.items(), key=operator.itemgetter(1))[0]\n",
    "  var_model[k] = var_max_r2\n",
    "  r2_adj.append(r2[var_max_r2])\n",
    "  print(\"R2 adj hasta ahora \"+ str(r2_adj))\n",
    "  iterate_columns = iterate_columns.drop(var_max_r2, 1)\n",
    "  variables.append(var_max_r2)"
   ]
  },
  {
   "cell_type": "markdown",
   "id": "15f10709",
   "metadata": {},
   "source": [
    "BSS (Backward Stepwise Selection): Es como el FSS pero empieza agregando todas las variables al modelo al principio, y va eliminando una a una, cuando el r^2 ajustado empieza a decrecer, deja de eliminar."
   ]
  },
  {
   "cell_type": "code",
   "execution_count": 10,
   "id": "b0399810",
   "metadata": {},
   "outputs": [],
   "source": [
    "variables = X.columns\n",
    "iterate_columns = variables.drop('const', 1)\n",
    "vars_size = iterate_columns.size\n",
    "r2_adj = []\n",
    "var_model = {}\n",
    "for k in range(0, vars_size):\n",
    "    r2 = {}\n",
    "    i = 1\n",
    "    for var in iterate_columns:\n",
    "        variables = variables.drop(var, 1)\n",
    "        var_explicativa = X[variables]\n",
    "        variables = variables.insert(i, var)\n",
    "        model = sm.OLS(y, var_explicativa)\n",
    "        regr = model.fit()\n",
    "        r2[var] = regr.rsquared_adj\n",
    "        i += 1\n",
    "    var_max_r2 = max(r2.items(), key=operator.itemgetter(1))[0]\n",
    "    r2_adj.append(r2[var_max_r2])\n",
    "    var_model[k] = var_max_r2\n",
    "    iterate_columns = iterate_columns.drop(var_max_r2, 1)\n",
    "    variables = variables.drop(var_max_r2, 1)\n",
    "\n",
    "r2_max = r2_adj.index(max(r2_adj))"
   ]
  },
  {
   "cell_type": "markdown",
   "id": "75792ce3",
   "metadata": {},
   "source": [
    "# Clase 3:  Regularizacion y Continuacion Regresion No Lineal"
   ]
  },
  {
   "cell_type": "markdown",
   "id": "63024b50",
   "metadata": {},
   "source": [
    "La Regularizacioon es una forma de complementar algoritmos de aprendizaje, como\n",
    "la regresioon lineal o la regresion logiıstica, para evitar algunos problemas que surgen en\n",
    "el modelamiento debido, usualmente, a la cantidad de parametros. En particular busca\n",
    "resolver, o eliminar, el problema conocido como overfitting a traves de la eliminacion\n",
    "automatica de algunos parametros que podrıan estar haciendo que el modelo sea demasiado\n",
    "complejo. En este sentido, busca “simplificar” el modelo.\n",
    "\n",
    "El overfitting, llamado a veces sobreajuste, es un problema muy importante en todos los\n",
    "algoritmos de aprendizaje automatico. Consiste en tener una funcion de hipotesis hw(x)\n",
    "que predice perfectamente, o casi perfectamente, el conjunto de entrenamiento, pero no\n",
    "generaliza a nuevos datos.\n",
    "\n",
    "Para reducir el overfitting de los datos de entrenamiento se desea obtener una funcion de\n",
    "hipotesis mas simple, lo cual es equivalente a tener peque˜nos valores para los parametros\n",
    "w1, w2, · · · , wn. La regularizacion es un metodo que permite de forma relativamente automatica\n",
    "alcanzar este efecto: reduce los valores de cada parametro wi generando funciones\n",
    "de hipotesis mas simples."
   ]
  },
  {
   "cell_type": "code",
   "execution_count": 11,
   "id": "cc579a84",
   "metadata": {},
   "outputs": [],
   "source": [
    "X = auto_mpg.drop(columns=[\"mpg\"])\n",
    "\n",
    "y = auto_mpg[\"mpg\"].values\n",
    "\n",
    "x_train = X[:int(len(auto_mpg)*0.8)]\n",
    "y_train = y[:int(len(auto_mpg)*0.8)]\n",
    "\n",
    "x_test = X[:int(len(auto_mpg)*0.8)]\n",
    "y_test = y[:int(len(auto_mpg)*0.8)]"
   ]
  },
  {
   "cell_type": "markdown",
   "id": "a43c7738",
   "metadata": {},
   "source": [
    "Regularizacion RIDGE"
   ]
  },
  {
   "cell_type": "markdown",
   "id": "bf836a97",
   "metadata": {},
   "source": [
    "Penaliza los coeficientes de regresión grandes. En lugar de simplemente minimizar el error cuadrático \n",
    "(como en la regresión lineal simple), la regresión Ridge agrega un término de penalización a la función de costo.\n",
    "λ es el termino de penalizacion.\n",
    "\n",
    "λ>0: Se introduce una penalización que reduce la magnitud de los coeficientes. Esto ayuda a evitar \n",
    "que algunos coeficientes se vuelvan demasiado grandes y, por lo tanto, a mitigar el riesgo de sobreajuste.\n",
    "\n",
    "Un valor alto de 𝜆\n",
    "puede llevar a que todos los coeficientes se acerquen a cero, lo que puede resultar en un modelo demasiado simple.\n",
    "\n",
    "Un valor bajo de λ \n",
    "tendrá un efecto menor en los coeficientes, lo que puede no ser suficiente para prevenir el sobreajuste."
   ]
  },
  {
   "cell_type": "code",
   "execution_count": 12,
   "id": "25e2e752",
   "metadata": {},
   "outputs": [
    {
     "name": "stdout",
     "output_type": "stream",
     "text": [
      "Coefficients: [-0.00730442 -0.03428259 -0.00464061 -0.16000561]\n",
      "Beta 0: 43.50402152613326\n",
      "10.599043468524636\n",
      "r2: 0.763095805332688\n"
     ]
    }
   ],
   "source": [
    "from sklearn.linear_model import Ridge\n",
    "import numpy as np\n",
    "from sklearn.metrics import r2_score\n",
    "ridge = Ridge(alpha=1.0)\n",
    "\n",
    "ridge.fit(x_train, y_train)\n",
    "\n",
    "#displacement, horsepower, weight, acceleration\n",
    "print(\"Coefficients:\", ridge.coef_)\n",
    "\n",
    "print(\"Beta 0:\", ridge.intercept_)\n",
    "\n",
    "y_pred = ridge.predict(x_test)\n",
    "\n",
    "mse = np.mean((y_test - y_pred)**2)\n",
    "print(f\"mse: {mse}\")\n",
    "\n",
    "r2 = r2_score(y_test, y_pred)\n",
    "print(f\"r2: {r2}\")"
   ]
  },
  {
   "cell_type": "markdown",
   "id": "0361f3cc",
   "metadata": {},
   "source": [
    "Regularizacion Lasso"
   ]
  },
  {
   "cell_type": "markdown",
   "id": "dc057d29",
   "metadata": {},
   "source": [
    "Es muy parecida a la regularización Ridge,\n",
    "Esta penalización permite a veces eliminar por completo una variable, ya que podría hacer que un coeficiente de cero, es más agresiva que ridge.\n",
    "\n",
    "Esto sucede porque en ridge si vos pones un valor bajo de la variable, como está al cuadrado el error, \n",
    "te da muy chica la penalización entonces no te lo elimina por completo, en este caso como es el modulo, \n",
    "puede lograr eliminar una variable por completo."
   ]
  },
  {
   "cell_type": "code",
   "execution_count": 13,
   "id": "e8471cd9",
   "metadata": {},
   "outputs": [
    {
     "name": "stdout",
     "output_type": "stream",
     "text": [
      "Coefficients: [-0.00564601 -0.01976286 -0.0051745  -0.        ]\n",
      "Constant: 40.76203598874339\n",
      "r2: 0.7614413433165821\n"
     ]
    }
   ],
   "source": [
    "from sklearn.linear_model import Lasso\n",
    "\n",
    "lasso = Lasso(alpha=1.0)\n",
    "lasso.fit(x_train, y_train)\n",
    "\n",
    "print(\"Coefficients:\", lasso.coef_)\n",
    "print(\"Constant:\", lasso.intercept_)\n",
    "\n",
    "y_pred = lasso.predict(x_test)\n",
    "mse = np.mean((y_test - y_pred)**2)\n",
    "r2 = r2_score(y_test, y_pred)\n",
    "print(f\"r2: {r2}\")"
   ]
  },
  {
   "cell_type": "markdown",
   "id": "f1573397",
   "metadata": {},
   "source": [
    "Regresion NO lineal Logaritmica"
   ]
  },
  {
   "cell_type": "code",
   "execution_count": 14,
   "id": "5dc6edb6",
   "metadata": {},
   "outputs": [
    {
     "data": {
      "image/png": "[encoded data removed]",
      "text/plain": [
       "<Figure size 640x480 with 1 Axes>"
      ]
     },
     "metadata": {},
     "output_type": "display_data"
    }
   ],
   "source": [
    "import matplotlib.pyplot as plt\n",
    "X = auto_mpg['displacement']\n",
    "y = auto_mpg[\"mpg\"].values\n",
    "x_log = np.log10(X)\n",
    "y_log = np.log10(y)\n",
    "plt.scatter(x_log, y_log)\n",
    "plt.show()"
   ]
  },
  {
   "cell_type": "code",
   "execution_count": 15,
   "id": "0a7ac4d0",
   "metadata": {},
   "outputs": [
    {
     "name": "stdout",
     "output_type": "stream",
     "text": [
      "                            OLS Regression Results                            \n",
      "==============================================================================\n",
      "Dep. Variable:                      y   R-squared:                       0.740\n",
      "Model:                            OLS   Adj. R-squared:                  0.739\n",
      "Method:                 Least Squares   F-statistic:                     1109.\n",
      "Date:                Sat, 28 Sep 2024   Prob (F-statistic):          4.68e-116\n",
      "Time:                        16:10:14   Log-Likelihood:                 457.91\n",
      "No. Observations:                 392   AIC:                            -911.8\n",
      "Df Residuals:                     390   BIC:                            -903.9\n",
      "Df Model:                           1                                         \n",
      "Covariance Type:            nonrobust                                         \n",
      "================================================================================\n",
      "                   coef    std err          t      P>|t|      [0.025      0.975]\n",
      "--------------------------------------------------------------------------------\n",
      "const            2.5683      0.037     69.564      0.000       2.496       2.641\n",
      "displacement    -0.5490      0.016    -33.296      0.000      -0.581      -0.517\n",
      "==============================================================================\n",
      "Omnibus:                       20.146   Durbin-Watson:                   0.915\n",
      "Prob(Omnibus):                  0.000   Jarque-Bera (JB):               56.084\n",
      "Skew:                          -0.072   Prob(JB):                     6.63e-13\n",
      "Kurtosis:                       4.847   Cond. No.                         26.0\n",
      "==============================================================================\n",
      "\n",
      "Notes:\n",
      "[1] Standard Errors assume that the covariance matrix of the errors is correctly specified.\n"
     ]
    }
   ],
   "source": [
    "x_train = x_log[:int(len(auto_mpg)*0.8)]\n",
    "y_train = y_log[:int(len(auto_mpg)*0.8)]\n",
    "\n",
    "x_test = x_log[:int(len(auto_mpg)*0.8)]\n",
    "y_test = y_log[:int(len(auto_mpg)*0.8)]\n",
    "\n",
    "x_log = sm.add_constant(x_log)\n",
    "model = sm.OLS(y_log, x_log).fit()\n",
    "print(model.summary())"
   ]
  },
  {
   "cell_type": "code",
   "execution_count": 17,
   "id": "7bab8d42",
   "metadata": {},
   "outputs": [
    {
     "name": "stderr",
     "output_type": "stream",
     "text": [
      "C:\\Users\\gonza\\AppData\\Local\\Temp\\ipykernel_4936\\2952935338.py:1: FutureWarning: Series.__getitem__ treating keys as positions is deprecated. In a future version, integer keys will always be treated as labels (consistent with DataFrame behavior). To access a value by position, use `ser.iloc[pos]`\n",
      "  beta_0 = model.params[0]\n",
      "C:\\Users\\gonza\\AppData\\Local\\Temp\\ipykernel_4936\\2952935338.py:2: FutureWarning: Series.__getitem__ treating keys as positions is deprecated. In a future version, integer keys will always be treated as labels (consistent with DataFrame behavior). To access a value by position, use `ser.iloc[pos]`\n",
      "  beta_1 = model.params[1]\n"
     ]
    },
    {
     "data": {
      "image/png": "[encoded data removed]",
      "text/plain": [
       "<Figure size 640x480 with 1 Axes>"
      ]
     },
     "metadata": {},
     "output_type": "display_data"
    },
    {
     "name": "stdout",
     "output_type": "stream",
     "text": [
      "r2: 0.7397554555515125\n"
     ]
    }
   ],
   "source": [
    "beta_0 = model.params[0]\n",
    "beta_1 = model.params[1]\n",
    "a = np.power(10, beta_0)\n",
    "x = np.arange(start=min(X), stop=max(X), step=0.1)\n",
    "x = x[:,None]\n",
    "\n",
    "y_model = a * np.power(x, beta_1)\n",
    "\n",
    "plt.scatter(X, y)\n",
    "plt.plot(x, y_model, 'r')\n",
    "plt.show()\n",
    "r2 = model.rsquared\n",
    "print(f\"r2: {r2}\")"
   ]
  }
 ],
 "metadata": {
  "kernelspec": {
   "display_name": "Python 3",
   "language": "python",
   "name": "python3"
  },
  "language_info": {
   "codemirror_mode": {
    "name": "ipython",
    "version": 3
   },
   "file_extension": ".py",
   "mimetype": "text/x-python",
   "name": "python",
   "nbconvert_exporter": "python",
   "pygments_lexer": "ipython3",
   "version": "3.12.1"
  }
 },
 "nbformat": 4,
 "nbformat_minor": 5
}
