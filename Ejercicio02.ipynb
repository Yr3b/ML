{
 "cells": [
  {
   "cell_type": "markdown",
   "metadata": {},
   "source": [
    "<div style=\"text-align: center; font-size: 24px; font-weight: bold; color: #FFFFFF; margin-top: 20px; margin-bottom: 20px;\">\n",
    "    EJERCICIO 2.<br>\n",
    "    <span style=\"font-size: 20px; color: #B0B0B0;\">Regresión Lineal Multiple</span><br><br>\n",
    "    Crea un modelo de <span style=\"font-weight: bold; color: #1E90FF;\">regresión lineal multiple </span> utiliza un conjunto de datos con múltiples variables independientes para crear un modelo de regresión lineal múltiple.<br><br>\n",
    "    <span style=\"font-size: 18px; color: #B0B0B0;\">Utilizar las diferentes estrategias para la selección de variables</span>\n",
    "</div>"
   ]
  },
  {
   "cell_type": "code",
   "execution_count": null,
   "metadata": {},
   "outputs": [],
   "source": [
    "%pip install pandas\n",
    "%pip install matplotlib\n",
    "%pip install statsmodels\n",
    "%pip install numpy\n",
    "%pip install scikit-learn"
   ]
  },
  {
   "cell_type": "code",
   "execution_count": 1,
   "metadata": {},
   "outputs": [
    {
     "name": "stderr",
     "output_type": "stream",
     "text": [
      "C:\\Users\\gonza\\AppData\\Local\\Temp\\ipykernel_14356\\1919900989.py:5: FutureWarning: The 'delim_whitespace' keyword in pd.read_csv is deprecated and will be removed in a future version. Use ``sep='\\s+'`` instead\n",
      "  auto_mpg = pd.read_csv(url, names=column_names, delim_whitespace=True, na_values=\"?\")\n"
     ]
    },
    {
     "name": "stdout",
     "output_type": "stream",
     "text": [
      "    mpg  displacement  horsepower  weight  acceleration\n",
      "0  18.0         307.0       130.0  3504.0          12.0\n",
      "1  15.0         350.0       165.0  3693.0          11.5\n",
      "2  18.0         318.0       150.0  3436.0          11.0\n",
      "3  16.0         304.0       150.0  3433.0          12.0\n",
      "4  17.0         302.0       140.0  3449.0          10.5\n"
     ]
    }
   ],
   "source": [
    "import pandas as pd\n",
    "\n",
    "url = \"https://archive.ics.uci.edu/ml/machine-learning-databases/auto-mpg/auto-mpg.data\"\n",
    "column_names = [\"mpg\", \"cylinders\", \"displacement\", \"horsepower\", \"weight\", \"acceleration\", \"model_year\", \"origin\", \"car_name\"]\n",
    "auto_mpg = pd.read_csv(url, names=column_names, delim_whitespace=True, na_values=\"?\")\n",
    "auto_mpg = auto_mpg.dropna() \n",
    "auto_mpg = auto_mpg.drop(columns=[\"cylinders\", \"model_year\", \"origin\", \"car_name\"])\n",
    "print(auto_mpg.head()) "
   ]
  },
  {
   "cell_type": "code",
   "execution_count": 2,
   "metadata": {},
   "outputs": [
    {
     "name": "stdout",
     "output_type": "stream",
     "text": [
      "                            OLS Regression Results                            \n",
      "==============================================================================\n",
      "Dep. Variable:                      y   R-squared:                       0.763\n",
      "Model:                            OLS   Adj. R-squared:                  0.760\n",
      "Method:                 Least Squares   F-statistic:                     248.0\n",
      "Date:                Mon, 30 Sep 2024   Prob (F-statistic):           5.73e-95\n",
      "Time:                        03:26:30   Log-Likelihood:                -813.59\n",
      "No. Observations:                 313   AIC:                             1637.\n",
      "Df Residuals:                     308   BIC:                             1656.\n",
      "Df Model:                           4                                         \n",
      "Covariance Type:            nonrobust                                         \n",
      "================================================================================\n",
      "                   coef    std err          t      P>|t|      [0.025      0.975]\n",
      "--------------------------------------------------------------------------------\n",
      "const           43.5072      2.162     20.127      0.000      39.254      47.761\n",
      "displacement    -0.0073      0.006     -1.301      0.194      -0.018       0.004\n",
      "horsepower      -0.0343      0.014     -2.529      0.012      -0.061      -0.008\n",
      "weight          -0.0046      0.001     -6.969      0.000      -0.006      -0.003\n",
      "acceleration    -0.1602      0.111     -1.444      0.150      -0.378       0.058\n",
      "==============================================================================\n",
      "Omnibus:                       45.803   Durbin-Watson:                   0.901\n",
      "Prob(Omnibus):                  0.000   Jarque-Bera (JB):               94.741\n",
      "Skew:                           0.764   Prob(JB):                     2.67e-21\n",
      "Kurtosis:                       5.220   Cond. No.                     3.77e+04\n",
      "==============================================================================\n",
      "\n",
      "Notes:\n",
      "[1] Standard Errors assume that the covariance matrix of the errors is correctly specified.\n",
      "[2] The condition number is large, 3.77e+04. This might indicate that there are\n",
      "strong multicollinearity or other numerical problems.\n"
     ]
    }
   ],
   "source": [
    "import statsmodels.api as sm\n",
    "\n",
    "# Agarra todas las variables del dataset excepto el mpg que es la variable\n",
    "# objetivo (y), y le agrega una constante\n",
    "X = auto_mpg.drop(columns=[\"mpg\"])\n",
    "X = sm.add_constant(X)\n",
    "y = auto_mpg[\"mpg\"].values\n",
    "\n",
    "x_train = X[:int(len(auto_mpg)*0.8)]\n",
    "y_train = y[:int(len(auto_mpg)*0.8)]\n",
    "\n",
    "x_test = X[:int(len(auto_mpg)*0.8)]\n",
    "y_test = y[:int(len(auto_mpg)*0.8)]\n",
    "\n",
    "\n",
    "model = sm.OLS(y_train, x_train).fit()\n",
    "print(model.summary())"
   ]
  },
  {
   "cell_type": "code",
   "execution_count": 6,
   "metadata": {},
   "outputs": [],
   "source": [
    "import matplotlib.pyplot as plt\n",
    "import numpy as np\n",
    "def r2_variation(vars_size, r2_adj, title, x_label, y_label):\n",
    "    \"\"\"\n",
    "    Plot the scatter and the curve that shows how R2 value vary over\n",
    "    every iteration. A title and labels for the graph must be included.\n",
    "    Also, highlight the point where there is a maximum R2 value. Add information\n",
    "    about that point. The amount of independent variables is given.\n",
    "    \"\"\"\n",
    "    # Grafiquemos la solucion\n",
    "    # Los valores para señalar cada iteracion\n",
    "    x = np.arange(vars_size)\n",
    "    # El punto donde R2 es maximo\n",
    "    r2_max_x = r2_adj.index(max(r2_adj))\n",
    "    r2_max_y = max(r2_adj)\n",
    "    # Titulo de nuestro grafico y nombre de los ejes\n",
    "    plt.title(title, loc = 'left')\n",
    "    plt.xlabel(x_label)\n",
    "    plt.ylabel(y_label)\n",
    "    # Grafiquemos la recta con la variacion del R2 en cada vuelta\n",
    "    plt.plot(x, r2_adj)\n",
    "    # Grafiquemos dispersion de puntos de X vs R2 ajustado\n",
    "    plt.scatter(x, r2_adj)\n",
    "    # Grafiquemos el punto donde R2 es maximo\n",
    "    plt.scatter(r2_max_x, r2_max_y, marker='*', s=100, color='red')\n",
    "    plt.show()"
   ]
  },
  {
   "cell_type": "markdown",
   "metadata": {},
   "source": [
    "FSS"
   ]
  },
  {
   "cell_type": "code",
   "execution_count": 4,
   "metadata": {},
   "outputs": [
    {
     "name": "stdout",
     "output_type": "stream",
     "text": [
      "Esta es la ronda k=0\n",
      "Ahora estoy probando con la var: displacement\n",
      "Aca estoy guardando los R2\n",
      "{'displacement': 0.6473274244226872}\n",
      "Ahora estoy probando con la var: horsepower\n",
      "Aca estoy guardando los R2\n",
      "{'displacement': 0.6473274244226872, 'horsepower': 0.6049378688071001}\n",
      "Ahora estoy probando con la var: weight\n",
      "Aca estoy guardando los R2\n",
      "{'displacement': 0.6473274244226872, 'horsepower': 0.6049378688071001, 'weight': 0.691842306026063}\n",
      "Ahora estoy probando con la var: acceleration\n",
      "Aca estoy guardando los R2\n",
      "{'displacement': 0.6473274244226872, 'horsepower': 0.6049378688071001, 'weight': 0.691842306026063, 'acceleration': 0.17710245284896298}\n",
      "--------\n",
      "MAX R2: weight\n",
      "R2 adj hasta ahora [0.691842306026063]\n",
      "Esta es la ronda k=1\n",
      "Ahora estoy probando con la var: displacement\n",
      "Aca estoy guardando los R2\n",
      "{'displacement': 0.6974190581758475}\n",
      "Ahora estoy probando con la var: horsepower\n",
      "Aca estoy guardando los R2\n",
      "{'displacement': 0.6974190581758475, 'horsepower': 0.7048656350343583}\n",
      "Ahora estoy probando con la var: acceleration\n",
      "Aca estoy guardando los R2\n",
      "{'displacement': 0.6974190581758475, 'horsepower': 0.7048656350343583, 'acceleration': 0.6981539609651755}\n",
      "--------\n",
      "MAX R2: horsepower\n",
      "R2 adj hasta ahora [0.691842306026063, 0.7048656350343583]\n",
      "Esta es la ronda k=2\n",
      "Ahora estoy probando con la var: displacement\n",
      "Aca estoy guardando los R2\n",
      "{'displacement': 0.7046896611177529}\n",
      "Ahora estoy probando con la var: acceleration\n",
      "Aca estoy guardando los R2\n",
      "{'displacement': 0.7046896611177529, 'acceleration': 0.7041051933641558}\n",
      "--------\n",
      "MAX R2: displacement\n",
      "R2 adj hasta ahora [0.691842306026063, 0.7048656350343583, 0.7046896611177529]\n",
      "Esta es la ronda k=3\n",
      "Ahora estoy probando con la var: acceleration\n",
      "Aca estoy guardando los R2\n",
      "{'acceleration': 0.7039525683453438}\n",
      "--------\n",
      "MAX R2: acceleration\n",
      "R2 adj hasta ahora [0.691842306026063, 0.7048656350343583, 0.7046896611177529, 0.7039525683453438]\n",
      "El mejor modelo fue en la ronda: 1\n",
      "Las variables seleccionadas fueron: ['const', 'weight', 'horsepower', 'displacement', 'acceleration']\n"
     ]
    }
   ],
   "source": [
    "import operator\n",
    "import r2_variation\n",
    "\n",
    "# Setear las condiciones iniciales\n",
    "variables = ['const']  # Iniciamos con solo la constante\n",
    "iterate_columns = X.columns.drop('const', 1)  # Variables que iteraremos\n",
    "r2_adj = []  # Lista para guardar los valores de R2 ajustado\n",
    "vars_size = iterate_columns.size  # Cantidad de variables independientes\n",
    "var_model = {}  # Diccionario para almacenar el mejor modelo en cada iteración\n",
    "\n",
    "# Iteramos k veces, siendo k la cantidad de variables\n",
    "for k in range(0, vars_size):\n",
    "    print(\"Esta es la ronda k=\" + str(k))\n",
    "    r2 = {}  # Diccionario para almacenar los R2 ajustados de cada modelo en la ronda\n",
    "    \n",
    "    # Iteramos sobre todas las variables disponibles esa ronda\n",
    "    for var in iterate_columns:\n",
    "        print(\"Ahora estoy probando con la var: \" + var)\n",
    "        var_explicativa = X[variables + [var]]  # Incluimos las variables seleccionadas + la nueva\n",
    "        model = sm.OLS(y, var_explicativa)  # Creamos el modelo\n",
    "        regr = model.fit()  # Ajustamos el modelo\n",
    "        r2[var] = regr.rsquared_adj  # Guardamos el R2 ajustado de este modelo\n",
    "        print(\"Aca estoy guardando los R2\")\n",
    "        print(r2)\n",
    "    \n",
    "    print(\"--------\")\n",
    "    # Seleccionamos la variable con el mayor R2 ajustado\n",
    "    var_max_r2 = max(r2.items(), key=operator.itemgetter(1))[0]\n",
    "    print(\"MAX R2: \" + var_max_r2)\n",
    "    \n",
    "    # Almacenamos las variables que describen al modelo\n",
    "    var_model[k] = var_max_r2\n",
    "    \n",
    "    # Almacenamos el valor de R2 ajustado\n",
    "    r2_adj.append(r2[var_max_r2])\n",
    "    print(\"R2 adj hasta ahora \" + str(r2_adj))\n",
    "    \n",
    "    # Quitamos la variable seleccionada de la lista de variables disponibles\n",
    "    iterate_columns = iterate_columns.drop(var_max_r2, 1)\n",
    "    variables.append(var_max_r2)\n",
    "\n",
    "# Identificar el índice con el R2 ajustado más alto\n",
    "r2_max_index = r2_adj.index(max(r2_adj))\n",
    "print(\"El mejor modelo fue en la ronda: \" + str(r2_max_index))\n",
    "print(\"Las variables seleccionadas fueron: \" + str(variables))"
   ]
  },
  {
   "cell_type": "code",
   "execution_count": 7,
   "metadata": {},
   "outputs": [
    {
     "data": {
      "image/png": "[encoded data removed]",
      "text/plain": [
       "<Figure size 640x480 with 1 Axes>"
      ]
     },
     "metadata": {},
     "output_type": "display_data"
    }
   ],
   "source": [
    "r2_variation(vars_size, r2_adj, \"Forward Stepwise Selection\", \"k\", \"R2\")"
   ]
  },
  {
   "cell_type": "markdown",
   "metadata": {},
   "source": [
    "BSS"
   ]
  },
  {
   "cell_type": "code",
   "execution_count": 8,
   "metadata": {},
   "outputs": [],
   "source": [
    "# Seteamos las condiciones iniciales necesarias\n",
    "variables = X.columns\n",
    "iterate_columns = variables.drop('const', 1)\n",
    "vars_size = iterate_columns.size\n",
    "r2_adj = []\n",
    "var_model = {}\n",
    "# Iteramos k veces, siendo k la cantidad de variables\n",
    "for k in range(0, vars_size):\n",
    "    # Acumulamos los valores de R2 para cada variable en los modelos que armaremos\n",
    "    r2 = {}\n",
    "    # Indice para insertar las variables temporalmente removidas en su lugar\n",
    "    i = 1\n",
    "    # Iteramos sobre todas las variables disponibles para la ronda\n",
    "    for var in iterate_columns:\n",
    "        #Eliminamos la variable para probar\n",
    "        variables = variables.drop(var, 1)\n",
    "        # Fijamos que variables seran las que definiran nuestro modelo\n",
    "        var_explicativa = X[variables]\n",
    "        # Insertamos nuevamente la variable que sacamos en el lugar que estaba para la prox ronda\n",
    "        variables = variables.insert(i, var)\n",
    "        # Entrenamos el modelo\n",
    "        model = sm.OLS(y, var_explicativa)\n",
    "        regr = model.fit()\n",
    "        # Almacenamos el R2 para cada set de variables que se prueba\n",
    "        r2[var] = regr.rsquared_adj\n",
    "        # Actualizador de indice\n",
    "        i += 1\n",
    "    # Seleccionamos aquella con mayor R2\n",
    "    var_max_r2 = max(r2.items(), key=operator.itemgetter(1))[0]\n",
    "    # Almacenamos el valor de R2\n",
    "    r2_adj.append(r2[var_max_r2])\n",
    "    # Almacenamos las variables que describen a ese modelo\n",
    "    var_model[k] = var_max_r2\n",
    "    # No itera mas sobre esa variable tampoco\n",
    "    iterate_columns = iterate_columns.drop(var_max_r2, 1)\n",
    "    # Dejamos de considerar como una variable posible para definir al modelo\n",
    "    variables = variables.drop(var_max_r2, 1)\n",
    "#Seteamos el valor de la ronda k donde R2 es maximo\n",
    "r2_max = r2_adj.index(max(r2_adj))"
   ]
  },
  {
   "cell_type": "code",
   "execution_count": 9,
   "metadata": {},
   "outputs": [
    {
     "data": {
      "image/png": "[encoded data removed]",
      "text/plain": [
       "<Figure size 640x480 with 1 Axes>"
      ]
     },
     "metadata": {},
     "output_type": "display_data"
    }
   ],
   "source": [
    "r2_variation(vars_size, r2_adj, 'Backward Stepwise Selection', 'k', 'R2')"
   ]
  }
 ],
 "metadata": {
  "kernelspec": {
   "display_name": "Python 3",
   "language": "python",
   "name": "python3"
  },
  "language_info": {
   "codemirror_mode": {
    "name": "ipython",
    "version": 3
   },
   "file_extension": ".py",
   "mimetype": "text/x-python",
   "name": "python",
   "nbconvert_exporter": "python",
   "pygments_lexer": "ipython3",
   "version": "3.12.1"
  }
 },
 "nbformat": 4,
 "nbformat_minor": 2
}
